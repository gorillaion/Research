{
  "nbformat": 4,
  "nbformat_minor": 0,
  "metadata": {
    "colab": {
      "name": "M-Series_response.ipynb",
      "provenance": [],
      "toc_visible": true,
      "authorship_tag": "ABX9TyPrxDCkMRw12e/5n2Hq4CJ6",
      "include_colab_link": true
    },
    "kernelspec": {
      "name": "python3",
      "display_name": "Python 3"
    }
  },
  "cells": [
    {
      "cell_type": "markdown",
      "metadata": {
        "id": "view-in-github",
        "colab_type": "text"
      },
      "source": [
        "<a href=\"https://colab.research.google.com/github/gorillaion/Research/blob/master/M_Series_response.ipynb\" target=\"_parent\"><img src=\"https://colab.research.google.com/assets/colab-badge.svg\" alt=\"Open In Colab\"/></a>"
      ]
    },
    {
      "cell_type": "code",
      "metadata": {
        "id": "AKWvNz8VDeAR",
        "colab_type": "code",
        "colab": {}
      },
      "source": [
        "from google.colab import drive\n",
        "drive.mount('/content/drive')\n",
        "\n",
        "import numpy as np\n",
        "import pandas as pd\n",
        "import matplotlib.pyplot as plt\n",
        "\n",
        "from scipy import interpolate\n",
        "from scipy.integrate import odeint"
      ],
      "execution_count": null,
      "outputs": []
    },
    {
      "cell_type": "code",
      "metadata": {
        "id": "_Z9KP34CDrqU",
        "colab_type": "code",
        "colab": {}
      },
      "source": [
        "class MseriesGeneratorClass:\n",
        "    def __init__(self, k, Tc, binary=[0,1]):\n",
        "        self._generate_vec = np.vectorize(self._generate)\n",
        "        \n",
        "        comb = np.array([\n",
        "            [2, 1], [3, 1], [4, 1], [5, 2], [6, 2], [7, 1],\n",
        "            [7, 3], [10,3], [17,3], [18,7], [21,2], [22,1]])\n",
        "        \n",
        "        (self._p, self._q) = comb[k]\n",
        "        self._Tc = Tc\n",
        "        self._T = 2**self._p - 1\n",
        "        self._binary = binary\n",
        "        self._mseries = [1] + [0 for i in range(self._p-1)]\n",
        "        for i in range(self._p, self._T):\n",
        "            self._mseries.append(self._mseries[i-self._p] ^ self._mseries[i-self._q])\n",
        "        self._mseries = np.array(self._mseries)\n",
        "        print(f\"p = {self._p}, q = {self._q}, T = {self._T}\")\n",
        "    \n",
        "    def get_period(self):\n",
        "        return self._T\n",
        "    \n",
        "    def get_mseries(self):\n",
        "        return self._mseries\n",
        "    \n",
        "    def _generate(self, t):\n",
        "        k = int(t/self._Tc)\n",
        "        if k > self._T-1:\n",
        "            k = k % self._T\n",
        "        else:\n",
        "            pass #nothing\n",
        "        u = self._mseries[k]\n",
        "        if u > 0:\n",
        "            u = self._binary[1]\n",
        "        else:\n",
        "            u = self._binary[0]\n",
        "        return u\n",
        "    \n",
        "    def output(self, t):\n",
        "        if type(t) == float:\n",
        "            u = self._generate(t)\n",
        "        else:\n",
        "            u = self._generate_vec(t)\n",
        "        return u\n",
        "\n",
        "\n",
        "class PlantClass:\n",
        "    def __init__(self):\n",
        "        # ++ Parameter ++\n",
        "        I1 = 9.38062e-4 # [kgm^2] ....... 慣性モーメント（振子部）\n",
        "        I2 = 6.56e-4    # [kgm^2] ....... 慣性モーメント（ロータ部）\n",
        "        m1 = 0.669      # [kg] .......... 振子部の質量（モータを含む）\n",
        "        m2 = 0.519      # [kg] .......... ロータ部の質量\n",
        "        lg = 0.059758   # [m] ........... 主軸 - 重心間の距離\n",
        "        l  = 0.157\t# [m] ........... 軸間距離（主軸 - ロータ軸）\n",
        "        c1 = 0.02       # [Nm.sec/rad] .. 粘性摩擦トルク係数（第1軸）\n",
        "        c2 = 0.009      # [Nm.sec/rad] .. 粘性摩擦トルク係数（第2軸）\n",
        "        Kt = 2.07e-3    # [Nm/A] ........ トルク定数\n",
        "        Ka = 1          # [--] .......... DCアンプゲイン\n",
        "        Rm = 2.8\t# [Ω] ........... 抵抗\n",
        "        gr = 1/51       # [--] .......... 減速比\n",
        "        g  = 9.81       # [m/s^2] ....... 重力加速度\n",
        "\n",
        "        I = I1 + m1 * lg**2 + m2 * l**2\n",
        "        b = (Kt * Ka) / (gr * Rm)\n",
        "        f = (m1 * lg + m2 * l) * g / I\n",
        "        b1 = b/I\n",
        "        b2 = b/I + b/I2\n",
        "\n",
        "        # ++ State Space Matrix ++\n",
        "        self._A = np.array([\n",
        "            [0, 0, 1, 0],\n",
        "            [0, 0, 0, 1],\n",
        "            [0, 0,-c1/I, c2/I],\n",
        "            [0, 0, c1/I, -(c2/I + c2/I2)]\n",
        "        ])\n",
        "        self._B = np.array([0, 0, -b1, b2])\n",
        "        self._F = np.array([0, 0, -f, f])\n",
        "\n",
        "        #self._Al = np.array([        # Linearization of A\n",
        "        #    [   0, 0, 1, 0],\n",
        "        #    [   0, 0, 0, 1],\n",
        "        #    [-f/I, 0,-c1/I, c2/I],\n",
        "        #    [ f/I, 0, c1/I, -(c2/I + c2/I2)]])\n",
        "        \n",
        "    def act(self, x, u):\n",
        "        return self._A.dot(x) + self._B*u + self._F*np.sin(x[0])\n"
      ],
      "execution_count": 2,
      "outputs": []
    },
    {
      "cell_type": "code",
      "metadata": {
        "id": "lda9YS0KGdVz",
        "colab_type": "code",
        "colab": {}
      },
      "source": [
        "work_path = \"/content/drive/My Drive/Colab Notebooks\"\n"
      ],
      "execution_count": 3,
      "outputs": []
    },
    {
      "cell_type": "markdown",
      "metadata": {
        "id": "P8HH9xR_IZjM",
        "colab_type": "text"
      },
      "source": [
        "# 立ち上がり時間の測定"
      ]
    },
    {
      "cell_type": "code",
      "metadata": {
        "id": "l2XmqT12GSSY",
        "colab_type": "code",
        "colab": {}
      },
      "source": [
        "step_x = pd.read_csv(f\"{work_path}/data/step_x.csv\")\n",
        "step_x2 = step_x[[\"x2[k]\"]]\n",
        "step_x4 = step_x[[\"x4[k]\"]]\n",
        "\n",
        "rsp100 = step_x4[19000:].mean()[0]\n",
        "rsp90 = rsp100 * 0.9\n",
        "rsp10 = rsp100 * 0.1\n",
        "\n",
        "print(f\"max:{rsp100: 8.4f}\")\n",
        "print(f\"90%:{rsp90: 8.4f}\")\n",
        "print(f\"10%:{rsp10: 8.4f}\") # x4[7 < k < 8]\n"
      ],
      "execution_count": null,
      "outputs": []
    },
    {
      "cell_type": "code",
      "metadata": {
        "id": "4-ayYZQ_E0Bb",
        "colab_type": "code",
        "colab": {}
      },
      "source": [
        "step_x4_spline_t = interpolate.interp1d(step_x4.values[:,0], step_x[\"Time[sec]\"].values, kind=\"quadratic\")\n",
        "\n",
        "t_rsp10 = step_x4_spline_t(rsp10)\n",
        "t_rsp90 = step_x4_spline_t(rsp90)"
      ],
      "execution_count": 14,
      "outputs": []
    },
    {
      "cell_type": "code",
      "metadata": {
        "id": "u5MFWguBHETG",
        "colab_type": "code",
        "colab": {}
      },
      "source": [
        "y = step_x4.values[:,0]\n",
        "t = step_x[\"Time[sec]\"].values\n",
        "\n",
        "fig, ax = plt.subplots(1,1)\n",
        "ax.plot(t, y)\n",
        "ax.hlines([rsp100, rsp90, rsp10], -0.05, 0.2, color=[\"r\",\"g\",\"b\"], linestyle=\":\")\n",
        "ax.vlines([t_rsp90, t_rsp10], 0, 50, color=[\"g\",\"b\"])\n",
        "ax.set_xlim(-0.01,0.2);\n"
      ],
      "execution_count": null,
      "outputs": []
    },
    {
      "cell_type": "code",
      "metadata": {
        "id": "K7EWn2XUHTYo",
        "colab_type": "code",
        "colab": {}
      },
      "source": [
        "tau = t_rsp90 - t_rsp10\n",
        "Tc_lower = tau/10\n",
        "\n",
        "print(f\"立ち上がり時間: {tau:.4f} (Tc > {Tc_lower:.4f})\")"
      ],
      "execution_count": null,
      "outputs": []
    },
    {
      "cell_type": "markdown",
      "metadata": {
        "id": "Uf-hxKHRIXY7",
        "colab_type": "text"
      },
      "source": [
        "# M系列信号の入力に対する時刻歴応答の取得"
      ]
    },
    {
      "cell_type": "code",
      "metadata": {
        "id": "kp3DIO9SH6Zf",
        "colab_type": "code",
        "colab": {}
      },
      "source": [
        "# define parameters\n",
        "Tc  = 0.0165\n",
        "\n",
        "# create object\n",
        "plant = PlantClass()\n",
        "gen = MseriesGeneratorClass(7, Tc, binary=[-12.0, 12.0])\n",
        "\n",
        "print(f\"The time of one period: {Tc*gen.get_period():.3f}[sec]\")\n",
        "\n",
        "# define control-system\n",
        "def system(x, t):\n",
        "    u = gen.output(t)\n",
        "    return plant.act(x, u)"
      ],
      "execution_count": null,
      "outputs": []
    },
    {
      "cell_type": "code",
      "metadata": {
        "id": "fUA5HWP3IIQ_",
        "colab_type": "code",
        "colab": {}
      },
      "source": [
        "Ts  = 0.001\n",
        "sim_time = 20.0+Ts\n",
        "t_span = np.arange(0, sim_time, Ts)"
      ],
      "execution_count": 24,
      "outputs": []
    },
    {
      "cell_type": "code",
      "metadata": {
        "id": "YBXf7dJBILQm",
        "colab_type": "code",
        "colab": {}
      },
      "source": [
        "# run the simulation\n",
        "resp_x = odeint(system, [0.,0.,0.,0.], t_span)\n",
        "ref_u = gen.output(t_span)\n",
        "\n",
        "dxdt = []\n",
        "for i in range(ref_u.size):\n",
        "    dxdt.append(plant.act(resp_x[i],ref_u[i]))\n",
        "dxdt = np.array(dxdt)\n",
        "\n",
        "data = np.hstack((resp_x, dxdt[:,2:], ref_u[:,np.newaxis]))"
      ],
      "execution_count": 27,
      "outputs": []
    },
    {
      "cell_type": "code",
      "metadata": {
        "id": "w4FP-uGMIzL9",
        "colab_type": "code",
        "colab": {}
      },
      "source": [
        "# check the results\n",
        "plt.subplot(211)\n",
        "plt.plot(t_span, resp_x[:,0])\n",
        "\n",
        "plt.subplot(212)\n",
        "plt.plot(t_span, ref_u)"
      ],
      "execution_count": null,
      "outputs": []
    },
    {
      "cell_type": "code",
      "metadata": {
        "id": "QXbEDSToI2VJ",
        "colab_type": "code",
        "colab": {}
      },
      "source": [
        "df_respx = pd.DataFrame({\n",
        "    \"Time[sec]\"  : np.round(t_span[:-1],3),\n",
        "    \"x1[k]\"      : data[:-1, 0],\n",
        "    \"x2[k]\"      : data[:-1, 1],\n",
        "    \"x3[k]\"      : data[:-1, 2],\n",
        "    \"x4[k]\"      : data[:-1, 3],\n",
        "    \"d/dt x3[k]\" : data[:-1, 4],\n",
        "    \"d/dt x4[k]\" : data[:-1, 5],\n",
        "    \"voltage\"    : data[:-1, 6]\n",
        "})\n",
        "\n",
        "df_respy = pd.DataFrame({\n",
        "    \"Time[sec]\" : np.round(t_span[1:],3),\n",
        "    \"x1[k+1]\"   : data[1:, 0],\n",
        "    \"x2[k+1]\"   : data[1:, 1],\n",
        "    \"x3[k+1]\"   : data[1:, 2],\n",
        "    \"x4[k+1]\"   : data[1:, 3]\n",
        "})"
      ],
      "execution_count": null,
      "outputs": []
    },
    {
      "cell_type": "code",
      "metadata": {
        "id": "wMOmwQr3I7HZ",
        "colab_type": "code",
        "colab": {}
      },
      "source": [
        "data_label = \"ms3a\"\n",
        "\n",
        "df_respx.to_csv(f\"{work_path}/data/{data_label}_x.csv\", index=False)\n",
        "df_respy.to_csv(f\"{work_path}/data/{data_label}_y.csv\", index=False)"
      ],
      "execution_count": 33,
      "outputs": []
    }
  ]
}